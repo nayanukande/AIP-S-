{
  "cells": [
    {
      "cell_type": "code",
      "execution_count": null,
      "metadata": {
        "id": "6BT3736BmmMF"
      },
      "outputs": [],
      "source": [
        "%%capture\n",
        "!pip install streamlit"
      ]
    },
    {
      "cell_type": "code",
      "execution_count": null,
      "metadata": {
        "id": "gbJdbJH6l6S4"
      },
      "outputs": [],
      "source": [
        "%%capture\n",
        "import nltk\n",
        "nltk.download('punkt')"
      ]
    },
    {
      "cell_type": "code",
      "execution_count": null,
      "metadata": {
        "id": "hbIBnxYWmD8r"
      },
      "outputs": [],
      "source": [
        "%%capture\n",
        "!pip install git+https://github.com/neuml/txtai"
      ]
    },
    {
      "cell_type": "code",
      "execution_count": null,
      "metadata": {
        "id": "lKLIQOhjmEf3"
      },
      "outputs": [],
      "source": [
        "%%capture\n",
        "!pip install txtai[pipeline]"
      ]
    },
    {
      "cell_type": "code",
      "execution_count": null,
      "metadata": {
        "id": "NNUJ1HTFmGzK"
      },
      "outputs": [],
      "source": [
        "%%capture\n",
        "!pip install Pillow==9.0.0"
      ]
    },
    {
      "cell_type": "code",
      "source": [
        "%%writefile app1.py\n",
        "\n",
        "import streamlit as st\n",
        "from txtai.pipeline import Textractor\n",
        "from txtai.embeddings import Embeddings\n",
        "  #Web Scraping\n",
        "import bs4 as bs\n",
        "import urllib.request\n",
        "import re\n",
        "# Create embeddings model, backed by sentence-transformers & transformers\n",
        "embeddings = Embeddings({\"path\": \"sentence-transformers/nli-mpnet-base-v2\"})\n",
        "\n",
        "url = \"https://www.independentschoolparent.com/wp-content/uploads/2018/01/AI.jpg\"\n",
        "\n",
        "st.title(\"AIP-S³\")\n",
        "st.write(\"AI Powered Smart Search System\")\n",
        "st.image(url)\n",
        "\n",
        "st.markdown('_Welcome to Question Answering System 🧠 🤖_')\n",
        "\n",
        "a = st.sidebar.radio(\"SELECT -\", ['PDF', 'Website'])\n",
        "\n",
        "def my_function_pdf():\n",
        "  textract = Textractor(sentences=True)\n",
        "\n",
        "  data_lines = []\n",
        "  for i in (locations_max):\n",
        "    lines = textract(i)\n",
        "    data_lines.append(lines)\n",
        "  total_lines = []\n",
        "  for i in data_lines:\n",
        "    total_lines += i\n",
        "  seq = embeddings.similarity(quer, total_lines)\n",
        "  three_most = seq[0:3]\n",
        "  indexes = []\n",
        "  for i in three_most:\n",
        "    indexes.append(i[0])\n",
        "  for j in indexes:\n",
        "    st.write(total_lines[j])\n",
        "\n",
        "## webscrap function\n",
        "def my_web():\n",
        "  textract = Textractor(sentences=True)\n",
        "  data_lines = []\n",
        "  total_lines = []\n",
        "  article_text = \" \"\n",
        "  for i in (locations_max):\n",
        "    #print(i)\n",
        "    scraped_data = urllib.request.urlopen(i)\n",
        "    article = scraped_data.read()\n",
        "    parsed_article = bs.BeautifulSoup(article,'lxml')\n",
        "    paragraphs = parsed_article.find_all('p')\n",
        "    for p in paragraphs:\n",
        "      article_text += p.text\n",
        "    lines = textract(i)\n",
        "    data_lines.append(lines)\n",
        "  total_lines = []\n",
        "  for i in data_lines:\n",
        "    total_lines += i\n",
        "  seq = embeddings.similarity(quer, total_lines)\n",
        "  three_most = seq[0:3]\n",
        "  indexes = []\n",
        "  for i in three_most:\n",
        "    indexes.append(i[0])\n",
        "  for j in indexes:\n",
        "    st.write(total_lines[j])\n",
        "\n",
        "\n",
        "\n",
        "\n",
        "##\n",
        "\n",
        "if a == 'PDF' :\n",
        "  number = st.number_input('Insert a number of files -',value =1, step =1)\n",
        "  st.write('Number of PDF files - ', number)\n",
        "  st.markdown(\"---\")\n",
        "  locations_max = []\n",
        "  for i in range (number) :\n",
        "    loc = st.text_input('Enter the PDF path :', placeholder = 'ex- /content/drive/MyDrive/', key = i)\n",
        "    locations_max.append(loc)\n",
        "\n",
        "  # for query\n",
        "  quer = st.text_input('ask me anything!', placeholder = 'ex - what is AI?')\n",
        "  st.write('Your query is - ', quer)\n",
        "\n",
        "  # for textraction\n",
        "  if st.button('Confirm!'):\n",
        "     st.write('Confirmed')\n",
        "     my_function_pdf()\n",
        "  else:\n",
        "     st.write('')\n",
        "## web\n",
        "else:\n",
        "  number = st.number_input('Insert a number of Links -',value =1, step =1)\n",
        "  st.write('Number of web pages - ', number)  \n",
        "  st.markdown(\"---\")\n",
        "  locations_max = []\n",
        "  for i in range (number) :\n",
        "    loc = st.text_input('Enter the URL :', placeholder = 'ex- https:\\\\', key = i)\n",
        "    locations_max.append(loc)\n",
        "\n",
        "  # for query\n",
        "  quer = st.text_input('ask me anything!', placeholder = 'ex - what is AI?')\n",
        "  st.write('Your query is - ', quer)\n",
        "  \n",
        "  if st.button('Confirm!'):\n",
        "     st.write('Confirmed')\n",
        "     my_web()\n",
        "  else:\n",
        "     st.write('')\n",
        "\n"
      ],
      "metadata": {
        "id": "enzcMh0xaP86",
        "colab": {
          "base_uri": "https://localhost:8080/"
        },
        "outputId": "44254767-02fe-44c2-e929-f743f1889473"
      },
      "execution_count": null,
      "outputs": [
        {
          "output_type": "stream",
          "name": "stdout",
          "text": [
            "Overwriting app1.py\n"
          ]
        }
      ]
    },
    {
      "cell_type": "code",
      "source": [
        "!streamlit run app1.py & npx localtunnel --port 8501"
      ],
      "metadata": {
        "id": "OSsU5I1pabWe",
        "colab": {
          "base_uri": "https://localhost:8080/"
        },
        "outputId": "8a7c7cb5-1b08-464d-945c-e34d5512a73b"
      },
      "execution_count": null,
      "outputs": [
        {
          "output_type": "stream",
          "name": "stdout",
          "text": [
            "2022-07-22 20:10:29.603 INFO    numexpr.utils: NumExpr defaulting to 2 threads.\n",
            "\u001b[0m\n",
            "\u001b[34m\u001b[1m  You can now view your Streamlit app in your browser.\u001b[0m\n",
            "\u001b[0m\n",
            "\u001b[34m  Network URL: \u001b[0m\u001b[1mhttp://172.28.0.2:8501\u001b[0m\n",
            "\u001b[34m  External URL: \u001b[0m\u001b[1mhttp://34.143.207.31:8501\u001b[0m\n",
            "\u001b[0m\n",
            "\u001b[K\u001b[?25hnpx: installed 22 in 6.238s\n",
            "your url is: https://bright-humans-run-34-143-207-31.loca.lt\n",
            "2022-07-22 20:12:05.770 Loading faiss with AVX2 support.\n",
            "2022-07-22 20:12:05.770 Could not load library with AVX2 support due to:\n",
            "ModuleNotFoundError(\"No module named 'faiss.swigfaiss_avx2'\")\n",
            "2022-07-22 20:12:05.770 Loading faiss.\n",
            "2022-07-22 20:12:05.785 Successfully loaded faiss.\n",
            "Downloading: 100% 587/587 [00:00<00:00, 610kB/s]\n",
            "Downloading: 100% 418M/418M [00:06<00:00, 71.5MB/s]\n",
            "Downloading: 100% 1.16k/1.16k [00:00<00:00, 923kB/s]\n",
            "Downloading: 100% 226k/226k [00:00<00:00, 361kB/s]\n",
            "Downloading: 100% 455k/455k [00:01<00:00, 434kB/s]\n",
            "Downloading: 100% 239/239 [00:00<00:00, 207kB/s]\n",
            "2022-07-22 20:15:39,693 [ScriptRunner] [INFO ]  Retrieving https://www.geeksforgeeks.org/what-is-reinforcement-learning/ to /tmp/what-is-reinforcement-learning.\n",
            "2022-07-22 20:15:39.693 Retrieving https://www.geeksforgeeks.org/what-is-reinforcement-learning/ to /tmp/what-is-reinforcement-learning.\n",
            "2022-07-22 20:15:39,748 [ScriptRunner] [INFO ]  Retrieving http://search.maven.org/remotecontent?filepath=org/apache/tika/tika-server/1.24/tika-server-1.24.jar to /tmp/tika-server.jar.\n",
            "2022-07-22 20:15:39.748 Retrieving http://search.maven.org/remotecontent?filepath=org/apache/tika/tika-server/1.24/tika-server-1.24.jar to /tmp/tika-server.jar.\n",
            "2022-07-22 20:15:45,859 [ScriptRunner] [INFO ]  Retrieving http://search.maven.org/remotecontent?filepath=org/apache/tika/tika-server/1.24/tika-server-1.24.jar.md5 to /tmp/tika-server.jar.md5.\n",
            "2022-07-22 20:15:45.859 Retrieving http://search.maven.org/remotecontent?filepath=org/apache/tika/tika-server/1.24/tika-server-1.24.jar.md5 to /tmp/tika-server.jar.md5.\n",
            "2022-07-22 20:15:47,219 [ScriptRunner] [WARNI]  Failed to see startup log message; retrying...\n",
            "2022-07-22 20:15:47.219 Failed to see startup log message; retrying...\n",
            "2022-07-22 20:16:05,192 [ScriptRunner] [INFO ]  Retrieving https://mitpress.mit.edu/books/reinforcement-learning-second-edition to /tmp/books-reinforcement-learning-second-edition.\n",
            "2022-07-22 20:16:05.192 Retrieving https://mitpress.mit.edu/books/reinforcement-learning-second-edition to /tmp/books-reinforcement-learning-second-edition.\n",
            "huggingface/tokenizers: The current process just got forked, after parallelism has already been used. Disabling parallelism to avoid deadlocks...\n",
            "To disable this warning, you can either:\n",
            "\t- Avoid using `tokenizers` before the fork if possible\n",
            "\t- Explicitly set the environment variable TOKENIZERS_PARALLELISM=(true | false)\n",
            "2022-07-22 20:16:21,743 [ScriptRunner] [INFO ]  Retrieving https://www.geeksforgeeks.org/what-is-reinforcement-learning/ to /tmp/what-is-reinforcement-learning.\n",
            "2022-07-22 20:16:21.743 Retrieving https://www.geeksforgeeks.org/what-is-reinforcement-learning/ to /tmp/what-is-reinforcement-learning.\n",
            "2022-07-22 20:16:23,395 [ScriptRunner] [INFO ]  Retrieving https://mitpress.mit.edu/books/reinforcement-learning-second-edition to /tmp/books-reinforcement-learning-second-edition.\n",
            "2022-07-22 20:16:23.395 Retrieving https://mitpress.mit.edu/books/reinforcement-learning-second-edition to /tmp/books-reinforcement-learning-second-edition.\n",
            "huggingface/tokenizers: The current process just got forked, after parallelism has already been used. Disabling parallelism to avoid deadlocks...\n",
            "To disable this warning, you can either:\n",
            "\t- Avoid using `tokenizers` before the fork if possible\n",
            "\t- Explicitly set the environment variable TOKENIZERS_PARALLELISM=(true | false)\n"
          ]
        }
      ]
    },
    {
      "cell_type": "code",
      "source": [
        "# links\n",
        "\n",
        "# https://www.geeksforgeeks.org/what-is-reinforcement-learning/\n",
        "# https://mitpress.mit.edu/books/reinforcement-learning-second-edition\n",
        "\n",
        "# What is reinforcement learning? (Query)\n",
        "\n",
        "#PDFs\n",
        "\n",
        "# /content/drive/MyDrive/Vruksh_eco/txt_ai/pdfs_exp/Data_science.pdf\n",
        "# /content/drive/MyDrive/Vruksh_eco/txt_ai/pdfs_exp/real-life-applications-of-data-science-in-education.pdf\n",
        "\n",
        "# What are the applications of data science in education?  (Query)"
      ],
      "metadata": {
        "id": "wU7WAfNFeoqj"
      },
      "execution_count": null,
      "outputs": []
    }
  ],
  "metadata": {
    "colab": {
      "collapsed_sections": [],
      "name": "app.ipynb",
      "provenance": []
    },
    "kernelspec": {
      "display_name": "Python 3",
      "name": "python3"
    },
    "language_info": {
      "name": "python"
    },
    "accelerator": "GPU",
    "gpuClass": "standard"
  },
  "nbformat": 4,
  "nbformat_minor": 0
}